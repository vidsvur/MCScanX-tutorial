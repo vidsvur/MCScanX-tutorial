{
  "nbformat": 4,
  "nbformat_minor": 0,
  "metadata": {
    "colab": {
      "provenance": [],
      "toc_visible": true,
      "authorship_tag": "ABX9TyPeacQStmKtuWmNtQLqt2//",
      "include_colab_link": true
    },
    "kernelspec": {
      "name": "python3",
      "display_name": "Python 3"
    },
    "language_info": {
      "name": "python"
    }
  },
  "cells": [
    {
      "cell_type": "markdown",
      "metadata": {
        "id": "view-in-github",
        "colab_type": "text"
      },
      "source": [
        "<a href=\"https://colab.research.google.com/github/vidsvur/MCScanX-tutorial/blob/main/Tutorial02_For_While_Functions_no_solutions.ipynb\" target=\"_parent\"><img src=\"https://colab.research.google.com/assets/colab-badge.svg\" alt=\"Open In Colab\"/></a>"
      ]
    },
    {
      "cell_type": "markdown",
      "source": [
        "# Tutorial 2\n",
        "\n",
        "In this tutorial, we will go over the basics of for and while loops, and look at python functions. We will then work on a problem together (use pseudocode), which would introduce us to how to write a complete python script, and then we will try an exercise.\n",
        "\n",
        "We will then look at how to import a library, such as numpy, and start with an introduction to arrays."
      ],
      "metadata": {
        "id": "yZbqzzPfHxEO"
      }
    },
    {
      "cell_type": "markdown",
      "source": [
        "## For and while loops\n",
        "\n",
        "So far, we have gone through the basics of python, but even while doing the exercise last week, we immediately relied on if-else statements and loops to answer those questions.\n",
        "\n",
        "I just learnt of the terminology this morning, but a good rule of thumb is the DRY rule (Don't Repeat Yourself)- to make a code efficient."
      ],
      "metadata": {
        "id": "feXqySnnJaw5"
      }
    },
    {
      "cell_type": "markdown",
      "source": [
        "In the following code, can anyone identify if this is breaking the DRY rule?\n",
        "\n",
        "```\n",
        "IF stomach_empty\n",
        "  eat_food()\n",
        "ENDIF\n",
        "//check if stomach is empty again.\n",
        "IF stomach_empty\n",
        "  eat_food()\n",
        "ENDIF\n",
        "//check if stomach is still empty,\n",
        "//....\n",
        "```\n",
        "\n"
      ],
      "metadata": {
        "id": "qQ-sZe-iQjl7"
      }
    },
    {
      "cell_type": "markdown",
      "source": [
        "Also- hi! This is pseudocode. This is writing a code in english words, and then we make it fancy with the correct python terminology."
      ],
      "metadata": {
        "id": "m-MbBBj1RQ5-"
      }
    },
    {
      "cell_type": "markdown",
      "source": [
        "It would be much more efficient to use a loop to keep the code running until there is a reason to break it."
      ],
      "metadata": {
        "id": "3BzyjD6xRDZm"
      }
    },
    {
      "cell_type": "markdown",
      "source": [
        "```\n",
        "WHILE stomach_empty //this code will keep on running if stomach_empty is true\n",
        "  eat_food()\n",
        "ENDWHILE\n",
        "```"
      ],
      "metadata": {
        "id": "3SUfwyyfRN0y"
      }
    },
    {
      "cell_type": "markdown",
      "source": [
        "There are two types of loops- for and while loops. Let's walk through both concepts."
      ],
      "metadata": {
        "id": "qh6ZGSycRlEl"
      }
    },
    {
      "cell_type": "markdown",
      "source": [
        "### For loops\n",
        "\n",
        "The most significant feature of a for loop is that it runs for a preset number of times.\n",
        "\n",
        "The syntax looks like this:\n",
        "\n",
        "```\n",
        "for element in <collection>:\n",
        "  <loop>\n",
        "```\n",
        "\n",
        "The body of the for loop is the place that you can add your conditional statements.\n"
      ],
      "metadata": {
        "id": "zKqnmMTPRjWI"
      }
    },
    {
      "cell_type": "code",
      "execution_count": null,
      "metadata": {
        "id": "i5g4o_XOHrbZ"
      },
      "outputs": [],
      "source": [
        "for i in range(15):\n",
        "  print(i)"
      ]
    },
    {
      "cell_type": "code",
      "source": [
        "for i in range(1, 15):\n",
        "  print(i)"
      ],
      "metadata": {
        "id": "EJrJBYTrSVnW"
      },
      "execution_count": null,
      "outputs": []
    },
    {
      "cell_type": "markdown",
      "source": [
        "# Exercise: Print all even numbers between 1 to 15 using a for loop.\n",
        "\n",
        "Advanced users of python: can you think of more than one way to do this?\n",
        "\n",
        "Hint: The first tutorial has all the answers. To life. 🧘"
      ],
      "metadata": {
        "id": "oFnnnK7sSgB7"
      }
    },
    {
      "cell_type": "markdown",
      "source": [
        "You can also loop through lists of strings!"
      ],
      "metadata": {
        "id": "qd7KNnICZy_1"
      }
    },
    {
      "cell_type": "code",
      "source": [
        "rich_folk=[\"Bernard Arnault\", \"Jeff Bezos\", \"Elon Musk\", \"Mark Zuckerburg\"]\n",
        "nameswithM=[]\n",
        "for name in rich_folk:\n",
        "  if \"M\" in name:\n",
        "    nameswithM.append(name)\n",
        "\n",
        "print(nameswithM)"
      ],
      "metadata": {
        "colab": {
          "base_uri": "https://localhost:8080/"
        },
        "id": "t3qqsZIgZ3WQ",
        "outputId": "f730b388-43e5-4a12-c97e-432c7dacf1c4"
      },
      "execution_count": null,
      "outputs": [
        {
          "output_type": "stream",
          "name": "stdout",
          "text": [
            "['Elon Musk', 'Mark Zuckerburg']\n"
          ]
        }
      ]
    },
    {
      "cell_type": "markdown",
      "source": [
        "## While loops\n",
        "\n",
        "This loops on until a condition is true.\n",
        "\n",
        "Syntax:\n",
        "\n",
        "```\n",
        "while <condition>:\n",
        "  <loops>\n"
      ],
      "metadata": {
        "id": "5Iw-upewamC9"
      }
    },
    {
      "cell_type": "code",
      "source": [
        "n = 0\n",
        "\n",
        "while n < 17:\n",
        "  print (n)\n",
        "  n+=1"
      ],
      "metadata": {
        "id": "HdKAK8Sgal1Z"
      },
      "execution_count": null,
      "outputs": []
    },
    {
      "cell_type": "markdown",
      "source": [
        "## Break and continue\n",
        "\n",
        "\n",
        "There are other statements that can control the flow of the for/while loops.\n",
        "\n"
      ],
      "metadata": {
        "id": "vUBlVhSnbyfr"
      }
    },
    {
      "cell_type": "code",
      "source": [
        "for i in range(5):\n",
        "    if i == 3:\n",
        "        break\n",
        "    print(i)"
      ],
      "metadata": {
        "id": "DcCJMQlvc8iZ"
      },
      "execution_count": null,
      "outputs": []
    },
    {
      "cell_type": "code",
      "source": [
        "for i in range(5):\n",
        "    if i == 3:\n",
        "        continue\n",
        "    print(i)"
      ],
      "metadata": {
        "id": "KDtHRPYddEK0"
      },
      "execution_count": null,
      "outputs": []
    },
    {
      "cell_type": "markdown",
      "source": [
        "# Exercise: Write a short guessing game program using a while loop. The user should be prompted to guess a number between 1 and 100, and you should tell them whether their guess was too high or too low after each guess. The loop should keeping running until the user guesses the number correctly.\n",
        "\n",
        "\n",
        "Step 1: write/publish your pseudocode on slack\n",
        "\n",
        "Step 2: Write the code in python\n",
        "\n",
        "Hint: to accept a user input:\n",
        "guess = int(input(\"Enter a number: \"))"
      ],
      "metadata": {
        "id": "pEMPXZi1buP-"
      }
    },
    {
      "cell_type": "markdown",
      "source": [
        "# Python Functions\n",
        "\n",
        "We have seen python funcitons before, but I wanted to formally introduce the concept.\n",
        "\n",
        "Just like the R functions we learnt, there are also native functions in python.\n",
        "\n",
        "For eg: len(), range()\n",
        "\n",
        "We can also code our own custom function, which comes in handy in automating repetitive code.\n",
        "\n",
        "\n",
        "Syntax:\n",
        "```\n",
        "def func_name():\n",
        "  function_body\n",
        "```"
      ],
      "metadata": {
        "id": "QBmqpHkDdfQS"
      }
    },
    {
      "cell_type": "code",
      "source": [
        "def greet():\n",
        "    print('Hello World!')\n",
        "\n",
        "# call the function\n",
        "greet()\n",
        "\n",
        "print('Outside function')"
      ],
      "metadata": {
        "id": "qUpQhENbqdCx"
      },
      "execution_count": null,
      "outputs": []
    },
    {
      "cell_type": "markdown",
      "source": [
        "# Final exercise of the day!\n",
        "\n",
        "\n",
        "Print the Fibonacci sequence up to a user-defined range. Use loops and python functions.\n",
        "\n",
        "\n",
        "Hint: 0 1 1 2 3 5... is the fibonacci sequence"
      ],
      "metadata": {
        "id": "5tgzE2nRrFlE"
      }
    }
  ]
}